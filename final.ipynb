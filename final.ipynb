{
 "cells": [
  {
   "cell_type": "code",
   "execution_count": 26,
   "metadata": {},
   "outputs": [],
   "source": [
    "import pandas as pd\n",
    "import pickle\n",
    "import numpy as np\n",
    "import tensorflow as tf\n",
    "from tensorflow.keras.preprocessing.image import ImageDataGenerator, load_img, img_to_array\n",
    "from tensorflow.keras.layers import Dense, Conv2D, Flatten, Input, Dropout, GlobalAveragePooling2D, BatchNormalization\n",
    "from tensorflow.keras.models import Model"
   ]
  },
  {
   "cell_type": "code",
   "execution_count": 27,
   "metadata": {},
   "outputs": [],
   "source": [
    "RANDOM_SEED = 17\n",
    "BATCH_SIZE = 32\n",
    "np.random.seed(29)"
   ]
  },
  {
   "cell_type": "code",
   "execution_count": 28,
   "metadata": {},
   "outputs": [],
   "source": [
    "class_mapping = open(\"inverse_class_mapping\",'rb')\n",
    "inverse_class_label = pickle.load(class_mapping)\n",
    "class_mapping.close()"
   ]
  },
  {
   "cell_type": "code",
   "execution_count": 35,
   "metadata": {},
   "outputs": [],
   "source": [
    "class_mapping = open(\"class_mapping\",'rb')\n",
    "class_label = pickle.load(class_mapping)\n",
    "class_mapping.close()"
   ]
  },
  {
   "cell_type": "code",
   "execution_count": 29,
   "metadata": {},
   "outputs": [],
   "source": [
    "def final_fun_1(X):\n",
    "    tf.keras.backend.clear_session()\n",
    "    xception = tf.keras.applications.Xception(include_top=False,weights='imagenet',input_shape=(380,380,3))\n",
    "    xception.trainable = False\n",
    "    batch_norm = BatchNormalization()\n",
    "    global_average_pool = GlobalAveragePooling2D()\n",
    "    dense1 = Dense(256, activation='relu')\n",
    "    dropout_layer = Dropout(0.5)\n",
    "    dense2 = Dense(128, activation='relu')\n",
    "    output =  Dense(120, activation='softmax')\n",
    "    model = tf.keras.models.Sequential([\n",
    "        xception,\n",
    "        batch_norm,\n",
    "        global_average_pool,\n",
    "        dense1,\n",
    "        dropout_layer,\n",
    "        dense2,\n",
    "        output\n",
    "    ])\n",
    "    model.load_weights(\"xception.h5\")\n",
    "    df = pd.DataFrame()\n",
    "    df[\"id\"] = X\n",
    "    df[\"id\"] = \"train/\" + df[\"id\"] + \".jpg\"\n",
    "    result = []\n",
    "    for index, row in df.iterrows():\n",
    "        img = load_img(row[\"id\"], target_size=(380, 380))\n",
    "        img = img_to_array(img)\n",
    "        img = np.true_divide(img, 255)\n",
    "        img = np.expand_dims(img, axis=0)\n",
    "        pred = model.predict(img).argmax(axis=-1)\n",
    "        result.append(inverse_class_label[pred[0]])\n",
    "    return result"
   ]
  },
  {
   "cell_type": "code",
   "execution_count": 30,
   "metadata": {},
   "outputs": [],
   "source": [
    "result = final_fun_1([\"25526168121fe509d4b323dcb6e23a7b\", \"841463629c4833816e216cbb041c2778\"])"
   ]
  },
  {
   "cell_type": "code",
   "execution_count": 31,
   "metadata": {},
   "outputs": [
    {
     "data": {
      "text/plain": [
       "['blenheim_spaniel', 'bernese_mountain_dog']"
      ]
     },
     "execution_count": 31,
     "metadata": {},
     "output_type": "execute_result"
    }
   ],
   "source": [
    "result"
   ]
  },
  {
   "cell_type": "code",
   "execution_count": 40,
   "metadata": {},
   "outputs": [],
   "source": [
    "def final_fun_2(X, y):\n",
    "    tf.keras.backend.clear_session()\n",
    "    xception = tf.keras.applications.Xception(include_top=False,weights='imagenet',input_shape=(380,380,3))\n",
    "    xception.trainable = False\n",
    "    batch_norm = BatchNormalization()\n",
    "    global_average_pool = GlobalAveragePooling2D()\n",
    "    dense1 = Dense(256, activation='relu')\n",
    "    dropout_layer = Dropout(0.5)\n",
    "    dense2 = Dense(128, activation='relu')\n",
    "    output =  Dense(120, activation='softmax')\n",
    "    model = tf.keras.models.Sequential([\n",
    "        xception,\n",
    "        batch_norm,\n",
    "        global_average_pool,\n",
    "        dense1,\n",
    "        dropout_layer,\n",
    "        dense2,\n",
    "        output\n",
    "    ])\n",
    "    model.load_weights(\"xception.h5\")\n",
    "    df = pd.DataFrame()\n",
    "    df[\"id\"] = X\n",
    "    df[\"id\"] = \"train/\" + df[\"id\"] + \".jpg\"\n",
    "    y_final = [class_label[i] for i in y]\n",
    "    result = []\n",
    "    for index, row in df.iterrows():\n",
    "        img = load_img(row[\"id\"], target_size=(380, 380))\n",
    "        img = img_to_array(img)\n",
    "        img = np.true_divide(img, 255)\n",
    "        img = np.expand_dims(img, axis=0)\n",
    "        pred = model.predict(img).argmax(axis=-1)\n",
    "        result.append(pred[0])\n",
    "    m = tf.keras.metrics.Accuracy()\n",
    "    m.update_state(result, y_final)\n",
    "    return m.result().numpy()"
   ]
  },
  {
   "cell_type": "code",
   "execution_count": 43,
   "metadata": {},
   "outputs": [],
   "source": [
    "result = final_fun_2([\"25526168121fe509d4b323dcb6e23a7b\", \"841463629c4833816e216cbb041c2778\"],['blenheim_spaniel', 'saint_bernard'])"
   ]
  },
  {
   "cell_type": "code",
   "execution_count": 44,
   "metadata": {},
   "outputs": [
    {
     "data": {
      "text/plain": [
       "0.5"
      ]
     },
     "execution_count": 44,
     "metadata": {},
     "output_type": "execute_result"
    }
   ],
   "source": [
    "result"
   ]
  }
 ],
 "metadata": {
  "kernelspec": {
   "display_name": "Python 3.8.10 ('base')",
   "language": "python",
   "name": "python3"
  },
  "language_info": {
   "codemirror_mode": {
    "name": "ipython",
    "version": 3
   },
   "file_extension": ".py",
   "mimetype": "text/x-python",
   "name": "python",
   "nbconvert_exporter": "python",
   "pygments_lexer": "ipython3",
   "version": "3.8.10"
  },
  "orig_nbformat": 4,
  "vscode": {
   "interpreter": {
    "hash": "19d1d53a962d236aa061289c2ac16dc8e6d9648c89fe79f459ae9a3493bc67b4"
   }
  }
 },
 "nbformat": 4,
 "nbformat_minor": 2
}
